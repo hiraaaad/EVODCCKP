{
 "cells": [
  {
   "cell_type": "markdown",
   "metadata": {
    "pycharm": {
     "name": "#%% md\n"
    }
   },
   "source": [
    "Packages required for running this code are:\n",
    "- Numpy\n",
    "- Numba\n",
    "- Pandas"
   ]
  },
  {
   "cell_type": "code",
   "execution_count": 1,
   "metadata": {
    "pycharm": {
     "name": "#%%\n"
    }
   },
   "outputs": [],
   "source": [
    "from oneplusone.phoenix_oneplusone import phoenix_oneplusone"
   ]
  },
  {
   "cell_type": "markdown",
   "metadata": {
    "pycharm": {
     "name": "#%% md\n"
    }
   },
   "source": [
    "Let's define the input parameters required to run the algorithm.\n",
    "- ptype : determines the type of algorithm. it could be 0, 1, 2 to represent uncorr, bsc, and usw of knapsack problems\n",
    "- num: number of items in knapsack problem\n",
    "- freq  : frequency for dyanmic change in knapsack capacity\n",
    "- delta : chance constrained optimsiation parameter\n",
    "- rho : the threshold for chance constraint\n",
    "- cond : it could be 1, 2 to represent Chebyshev's inequality and Chernoff bound, respectively\n",
    "- r: the magnitude for dynamic change in knapsack capacity\n",
    "- k: could be any number such as 1-30 to record separate values of run\n",
    "To run a test we have as follows:\n",
    "As the output it will record the final-err in the folder \"MyTxt\" with a unique file naming format.\n",
    "\n",
    "_For a sample run we have_:"
   ]
  },
  {
   "cell_type": "code",
   "execution_count": 5,
   "metadata": {
    "pycharm": {
     "name": "#%%\n"
    }
   },
   "outputs": [],
   "source": [
    "ptype=1\n",
    "num=100\n",
    "freq=100\n",
    "delta=50\n",
    "rho=0.001\n",
    "cond=1\n",
    "r=500\n",
    "k=1\n",
    "maxeval=1e5\n",
    "\n"
   ]
  },
  {
   "cell_type": "code",
   "execution_count": null,
   "metadata": {
    "pycharm": {
     "name": "#%%\n"
    }
   },
   "outputs": [
    {
     "name": "stdout",
     "output_type": "stream",
     "text": [
      "MyTxt/oneplusone_uncorr_100_1_500_100_50_0.001_2.txt\n"
     ]
    }
   ],
   "source": [
    "phoenix_oneplusone(ptype,num,freq,delta,rho,cond,r,k,maxeval)"
   ]
  },
  {
   "cell_type": "code",
   "execution_count": null,
   "metadata": {
    "pycharm": {
     "name": "#%%\n"
    }
   },
   "outputs": [],
   "source": []
  }
 ],
 "metadata": {
  "kernelspec": {
   "display_name": "Python 3 (ipykernel)",
   "language": "python",
   "name": "python3"
  },
  "language_info": {
   "codemirror_mode": {
    "name": "ipython",
    "version": 3
   },
   "file_extension": ".py",
   "mimetype": "text/x-python",
   "name": "python",
   "nbconvert_exporter": "python",
   "pygments_lexer": "ipython3",
   "version": "3.7.11"
  }
 },
 "nbformat": 4,
 "nbformat_minor": 1
}